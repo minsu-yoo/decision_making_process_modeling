{
 "cells": [
  {
   "cell_type": "code",
   "execution_count": 2,
   "id": "0e610eff",
   "metadata": {
    "scrolled": true
   },
   "outputs": [],
   "source": [
    "from brian2 import *\n",
    "start_scope()"
   ]
  },
  {
   "cell_type": "code",
   "execution_count": 3,
   "id": "e65041e6",
   "metadata": {},
   "outputs": [],
   "source": [
    "import brian2 as b2\n",
    "from brian2 import NeuronGroup, Synapses, PoissonInput, PoissonGroup, network_operation\n",
    "from brian2.monitors import StateMonitor, SpikeMonitor, PopulationRateMonitor\n",
    "from random import sample\n",
    "import numpy.random as rnd\n",
    "from neurodynex3.tools import plot_tools\n",
    "import numpy \n",
    "import matplotlib.pyplot as plt\n",
    "from math import floor\n",
    "import time"
   ]
  },
  {
   "cell_type": "code",
   "execution_count": 4,
   "id": "c64b2709",
   "metadata": {},
   "outputs": [],
   "source": [
    "b2.defaultclock.dt = 0.10 * b2.ms\n",
    "\n",
    "N_Excit=384 \n",
    "N_Inhib=96 \n",
    "weight_scaling_factor=5.33\n",
    "t_stimulus_start=100 * b2.ms \n",
    "t_stimulus_duration=9999 * b2.ms \n",
    "coherence_level=0\n",
    "stimulus_update_interval=30 * b2.ms\n",
    "mu0_mean_stimulus_Hz=160\n",
    "w_pos=1.90\n",
    "firing_rate_extern=9.8 * b2.Hz\n",
    "N_extern=1000 \n",
    "stimulus_std_Hz=20.\n",
    "f_Subpop_size=0.25  # .15 in publication [1]\n",
    "max_sim_time=1000. * b2.ms \n",
    "stop_condition_rate=None\n",
    "monitored_subset_size=512\n",
    "\n",
    "\n",
    "t_stimulus_end = t_stimulus_start + t_stimulus_duration\n",
    "\n",
    "N_Group_A = int(N_Excit * f_Subpop_size)  # size of the excitatory subpopulation sensitive to stimulus A\n",
    "N_Group_B = N_Group_A  # size of the excitatory subpopulation sensitive to stimulus B\n",
    "N_Group_Z = N_Excit - N_Group_A - N_Group_B  # (1-2f)Ne excitatory neurons do not respond to either stimulus.\n",
    "\n",
    "Cm_excit = 0.5 * b2.nF  # membrane capacitance of excitatory neurons0\n",
    "G_leak_excit = 25.0 * b2.nS  # leak conductance\n",
    "E_leak_excit = -70.0 * b2.mV  # reversal potential\n",
    "v_spike_thr_excit = -50.0 * b2.mV  # spike condition\n",
    "v_reset_excit = -60.0 * b2.mV  # reset voltage after spike\n",
    "t_abs_refract_excit = 2. * b2.ms  # absolute refractory period\n"
   ]
  },
  {
   "cell_type": "code",
   "execution_count": 5,
   "id": "17f7a9ec",
   "metadata": {},
   "outputs": [],
   "source": [
    "# specify the AMPA synapses\n",
    "E_AMPA = 0.0 * b2.mV\n",
    "tau_AMPA = 2.5 * b2.ms\n",
    "\n",
    "# specify the GABA synapses\n",
    "E_GABA = -70.0 * b2.mV\n",
    "tau_GABA = 5.0 * b2.ms\n",
    "\n",
    "# specify the NMDA synapses\n",
    "E_NMDA = 0.0 * b2.mV\n",
    "tau_NMDA_s = 100.0 * b2.ms\n",
    "tau_NMDA_x = 2. * b2.ms\n",
    "alpha_NMDA = 0.5 * b2.kHz"
   ]
  },
  {
   "cell_type": "code",
   "execution_count": 6,
   "id": "cdb12da9",
   "metadata": {},
   "outputs": [],
   "source": [
    "# specify the AMPA synapses\n",
    "E_AMPA = 0.0 * b2.mV\n",
    "tau_AMPA = 2.5 * b2.ms\n",
    "\n",
    "# specify the GABA synapses\n",
    "E_GABA = -70.0 * b2.mV\n",
    "tau_GABA = 5.0 * b2.ms\n",
    "\n",
    "# specify the NMDA synapses\n",
    "E_NMDA = 0.0 * b2.mV\n",
    "tau_NMDA_s = 100.0 * b2.ms\n",
    "tau_NMDA_x = 2. * b2.ms\n",
    "alpha_NMDA = 0.5 * b2.kHz"
   ]
  },
  {
   "cell_type": "code",
   "execution_count": 7,
   "id": "a7dd6be0",
   "metadata": {},
   "outputs": [],
   "source": [
    "# projections from the external population\n",
    "g_AMPA_extern2inhib = 1.62 * b2.nS\n",
    "g_AMPA_extern2excit = 2.1 * b2.nS"
   ]
  },
  {
   "cell_type": "code",
   "execution_count": 8,
   "id": "046c2a39",
   "metadata": {},
   "outputs": [],
   "source": [
    " # projectsions from the inhibitory populations\n",
    "g_GABA_inhib2inhib = weight_scaling_factor * 1.25 * b2.nS\n",
    "g_GABA_inhib2excit = weight_scaling_factor * 1.60 * b2.nS\n",
    "\n",
    "# projections from the excitatory population\n",
    "g_AMPA_excit2excit = weight_scaling_factor * 0.012 * b2.nS\n",
    "g_AMPA_excit2inhib = weight_scaling_factor * 0.015 * b2.nS\n",
    "g_NMDA_excit2excit = weight_scaling_factor * 0.040 * b2.nS\n",
    "g_NMDA_excit2inhib = weight_scaling_factor * 0.045 * b2.nS  # stronger projection to inhib.\n",
    "\n",
    "\n",
    "# weights and \"adjusted\" weights.\n",
    "w_neg = 1. - f_Subpop_size * (w_pos - 1.) / (1. - f_Subpop_size)\n",
    "# We use the same postsyn AMPA and NMDA conductances. Adjust the weights coming from different sources:\n",
    "w_ext2inhib = g_AMPA_extern2inhib / g_AMPA_excit2inhib\n",
    "w_ext2excit = g_AMPA_extern2excit / g_AMPA_excit2excit\n",
    "# other weights are 1\n",
    "# print(\"w_neg={}, w_ext2inhib={}, w_ext2excit={}\".format(w_neg, w_ext2inhib, w_ext2excit))"
   ]
  },
  {
   "cell_type": "code",
   "execution_count": 9,
   "id": "a0f359d2",
   "metadata": {},
   "outputs": [],
   "source": [
    "excit_lif_dynamics = \"\"\"\n",
    "    s_NMDA_total : 1  # the post synaptic sum of s. compare with s_NMDA_presyn\n",
    "    dv/dt = (\n",
    "    - G_leak_excit * (v-E_leak_excit)\n",
    "    - g_AMPA_excit2excit * s_AMPA * (v-E_AMPA)\n",
    "    )/Cm_excit : volt (unless refractory)\n",
    "    ds_AMPA/dt = -s_AMPA/tau_AMPA : 1\n",
    "    ds_NMDA/dt = -s_NMDA/tau_NMDA_s + alpha_NMDA * x * (1-s_NMDA) : 1\n",
    "    dx/dt = -x/tau_NMDA_x : 1\n",
    "   \n",
    "\"\"\""
   ]
  },
  {
   "cell_type": "code",
   "execution_count": null,
   "id": "bd411701",
   "metadata": {},
   "outputs": [],
   "source": [
    "# remember, this is here for running separate simulations in the same notebook\n",
    "# Parameters\n",
    "b2.start_scope()\n",
    "\n",
    "excit_pop_A = NeuronGroup(1, model=excit_lif_dynamics,\n",
    "                              threshold=\"v>v_spike_thr_excit\", reset=\"v=v_reset_excit\",\n",
    "                              refractory=t_abs_refract_excit, method=\"rk2\")\n",
    "\n",
    "\n",
    "excit_pop_A.v = rnd.uniform(E_leak_excit / b2.mV, high=E_leak_excit / b2.mV + 5., size=excit_pop_A.N) * b2.mV\n",
    "\n",
    "poisson2A = PoissonInput(target=excit_pop_A, target_var=\"s_AMPA\",\n",
    "                             N=3, rate=firing_rate_extern, weight=w_ext2excit)\n",
    "\n",
    "\n",
    "M = StateMonitor(excit_pop_A, 'v', record=True)\n",
    "\n",
    "b2.run(500*b2.ms)\n",
    "b2.plot(M.t/b2.ms, M.v[0]/b2.mV)\n",
    "b2.xlabel('Time (ms)')\n",
    "b2.ylabel('V (mV)');\n",
    "print(w_ext2excit)"
   ]
  },
  {
   "cell_type": "code",
   "execution_count": null,
   "id": "0a12b0e0",
   "metadata": {},
   "outputs": [],
   "source": []
  }
 ],
 "metadata": {
  "kernelspec": {
   "display_name": "Python 3 (ipykernel)",
   "language": "python",
   "name": "python3"
  },
  "language_info": {
   "codemirror_mode": {
    "name": "ipython",
    "version": 3
   },
   "file_extension": ".py",
   "mimetype": "text/x-python",
   "name": "python",
   "nbconvert_exporter": "python",
   "pygments_lexer": "ipython3",
   "version": "3.10.4"
  }
 },
 "nbformat": 4,
 "nbformat_minor": 5
}
