{
 "cells": [
  {
   "cell_type": "code",
   "execution_count": 3,
   "id": "f9c4364b",
   "metadata": {},
   "outputs": [],
   "source": [
    "import brian2 as b2\n",
    "from brian2 import NeuronGroup, Synapses, PoissonInput, PoissonGroup, network_operation\n",
    "from brian2.monitors import StateMonitor, SpikeMonitor, PopulationRateMonitor\n",
    "from random import sample\n",
    "import numpy.random as rnd\n",
    "from neurodynex3.tools import plot_tools\n",
    "import numpy\n",
    "import matplotlib.pyplot as plt\n",
    "from math import floor\n",
    "import time\n",
    "\n",
    "b2.defaultclock.dt = 0.10 * b2.ms"
   ]
  },
  {
   "cell_type": "code",
   "execution_count": null,
   "id": "ae095fdb",
   "metadata": {},
   "outputs": [],
   "source": []
  },
  {
   "cell_type": "code",
   "execution_count": 4,
   "id": "c92a9c90",
   "metadata": {},
   "outputs": [],
   "source": [
    "N_Excit=384 \n",
    "N_Inhib=96 \n",
    "weight_scaling_factor=5.33\n",
    "t_stimulus_start=100 * b2.ms \n",
    "t_stimulus_duration=9999 * b2.ms \n",
    "coherence_level=0\n",
    "stimulus_update_interval=30 * b2.ms\n",
    "mu0_mean_stimulus_Hz=160\n",
    "w_pos=1.90\n",
    "firing_rate_extern=9.8 * b2.Hz\n",
    "N_extern=1000 \n",
    "stimulus_std_Hz=20.\n",
    "f_Subpop_size=0.25  # .15 in publication [1]\n",
    "max_sim_time=1000. * b2.ms \n",
    "stop_condition_rate=None\n",
    "monitored_subset_size=512"
   ]
  },
  {
   "cell_type": "code",
   "execution_count": 5,
   "id": "72eff58d",
   "metadata": {
    "scrolled": true
   },
   "outputs": [],
   "source": [
    "weight_scaling_factor = 5.33\n",
    "f_Subpop_size=0.25\n",
    "w_pos=1.90\n",
    "firing_rate_extern=9.8 * b2.Hz,    \n",
    "N_extern=1000\n",
    "    \n",
    "Cm_excit = 0.5 * b2.nF  # membrane capacitance of excitatory neurons0\n",
    "G_leak_excit = 25.0 * b2.nS  # leak conductance\n",
    "E_leak_excit = -70.0 * b2.mV  # reversal potential\n",
    "v_spike_thr_excit = -50.0 * b2.mV  # spike condition\n",
    "v_reset_excit = -60.0 * b2.mV  # reset voltage after spike\n",
    "t_abs_refract_excit = 2. * b2.ms  # absolute refractory period\n",
    "\n",
    "# specify the inhibitory interneurons:\n",
    "# N_Inhib = 200\n",
    "Cm_inhib = 0.2 * b2.nF\n",
    "G_leak_inhib = 20.0 * b2.nS\n",
    "E_leak_inhib = -70.0 * b2.mV\n",
    "v_spike_thr_inhib = -50.0 * b2.mV\n",
    "v_reset_inhib = -60.0 * b2.mV\n",
    "t_abs_refract_inhib = 1.0 * b2.ms\n",
    "\n",
    "# specify the AMPA synapses\n",
    "E_AMPA = 0.0 * b2.mV\n",
    "tau_AMPA = 2.5 * b2.ms\n",
    "\n",
    "# specify the GABA synapses\n",
    "E_GABA = -70.0 * b2.mV\n",
    "tau_GABA = 5.0 * b2.ms\n",
    "\n",
    "# specify the NMDA synapses\n",
    "E_NMDA = 0.0 * b2.mV\n",
    "tau_NMDA_s = 100.0 * b2.ms\n",
    "tau_NMDA_x = 2. * b2.ms\n",
    "alpha_NMDA = 0.5 * b2.kHz\n",
    "\n",
    "# projections from the external population\n",
    "g_AMPA_extern2inhib = 1.62 * b2.nS\n",
    "g_AMPA_extern2excit = 2.1 * b2.nS\n",
    "\n",
    "# projectsions from the inhibitory populations\n",
    "g_GABA_inhib2inhib = weight_scaling_factor * 1.25 * b2.nS\n",
    "g_GABA_inhib2excit = weight_scaling_factor * 1.60 * b2.nS\n",
    "\n",
    "# projections from the excitatory population\n",
    "g_AMPA_excit2excit = weight_scaling_factor * 0.012 * b2.nS\n",
    "g_AMPA_excit2inhib = weight_scaling_factor * 0.015 * b2.nS\n",
    "g_NMDA_excit2excit = weight_scaling_factor * 0.040 * b2.nS\n",
    "g_NMDA_excit2inhib = weight_scaling_factor * 0.045 * b2.nS  # stronger projection to inhib.\n",
    "\n",
    "# weights and \"adjusted\" weights.\n",
    "w_neg = 1. - f_Subpop_size * (w_pos - 1.) / (1. - f_Subpop_size)\n",
    "# We use the same postsyn AMPA and NMDA conductances. Adjust the weights coming from different sources:\n",
    "w_ext2inhib = g_AMPA_extern2inhib / g_AMPA_excit2inhib\n",
    "w_ext2excit = g_AMPA_extern2excit / g_AMPA_excit2excit\n",
    "# other weights are 1\n",
    "# print(\"w_neg={}, w_ext2inhib={}, w_ext2excit={}\".format(w_neg, w_ext2inhib, w_ext2excit))\n"
   ]
  },
  {
   "cell_type": "code",
   "execution_count": 6,
   "id": "722e95d2",
   "metadata": {},
   "outputs": [],
   "source": [
    "initial_value = rnd.uniform(v_spike_thr_inhib / b2.mV - 4., high=v_spike_thr_inhib / b2.mV - 1., size=N_Inhib)"
   ]
  },
  {
   "cell_type": "code",
   "execution_count": 7,
   "id": "04e73ef1",
   "metadata": {},
   "outputs": [
    {
     "data": {
      "text/plain": [
       "96"
      ]
     },
     "execution_count": 7,
     "metadata": {},
     "output_type": "execute_result"
    }
   ],
   "source": [
    "len(initial_value)"
   ]
  },
  {
   "cell_type": "code",
   "execution_count": 8,
   "id": "c0ed6007",
   "metadata": {},
   "outputs": [
    {
     "data": {
      "text/plain": [
       "0.780939253019325"
      ]
     },
     "execution_count": 8,
     "metadata": {},
     "output_type": "execute_result"
    }
   ],
   "source": [
    "initial_value.std()"
   ]
  },
  {
   "cell_type": "code",
   "execution_count": 9,
   "id": "e5af27de",
   "metadata": {},
   "outputs": [],
   "source": [
    "excit_lif_dynamics = '''\n",
    "s_NMDA_total : 1  # the post synaptic sum of s. compare with s_NMDA_presyn\n",
    "dv/dt = (\n",
    "- G_leak_excit * (v-E_leak_excit)\n",
    "- g_AMPA_excit2excit * s_AMPA * (v-E_AMPA)\n",
    "- g_GABA_inhib2excit * s_GABA * (v-E_GABA)\n",
    "- g_NMDA_excit2excit * s_NMDA_total * (v-E_NMDA)/(1.0+1.0*exp(-0.062*v/volt)/3.57)\n",
    ")/Cm_excit : volt (unless refractory)\n",
    "ds_AMPA/dt = -s_AMPA/tau_AMPA : 1\n",
    "ds_GABA/dt = -s_GABA/tau_GABA : 1\n",
    "ds_NMDA/dt = -s_NMDA/tau_NMDA_s + alpha_NMDA * x * (1-s_NMDA) : 1\n",
    "dx/dt = -x/tau_NMDA_x : 1\n",
    "\n",
    "\n",
    "\n",
    "\n",
    "'''\n",
    "    "
   ]
  },
  {
   "cell_type": "code",
   "execution_count": 10,
   "id": "2c43e9d3",
   "metadata": {},
   "outputs": [],
   "source": [
    "#G.v = rnd.uniform(E_leak_excit / b2.mV, high=E_leak_excit / b2.mV + 5.) * b2.mV"
   ]
  },
  {
   "cell_type": "code",
   "execution_count": null,
   "id": "e6f08999",
   "metadata": {},
   "outputs": [],
   "source": []
  },
  {
   "cell_type": "code",
   "execution_count": 11,
   "id": "3e39f2bb",
   "metadata": {},
   "outputs": [],
   "source": [
    "G = NeuronGroup(1, model = excit_lif_dynamics, threshold=\"v>v_spike_thr_excit\", reset=\"v=v_reset_excit\",\n",
    "                refractory = t_abs_refract_excit,method=\"rk2\")\n"
   ]
  },
  {
   "cell_type": "code",
   "execution_count": null,
   "id": "481ed7b9",
   "metadata": {},
   "outputs": [],
   "source": []
  },
  {
   "cell_type": "code",
   "execution_count": 12,
   "id": "b9d06794",
   "metadata": {},
   "outputs": [],
   "source": [
    "from brian2 import *\n"
   ]
  },
  {
   "cell_type": "code",
   "execution_count": 13,
   "id": "4bedb1a9",
   "metadata": {},
   "outputs": [
    {
     "data": {
      "text/plain": [
       "PoissonInput(clock=Clock(dt=100. * usecond, name='defaultclock'), when=synapses, order=0, name='poissoninput')"
      ]
     },
     "execution_count": 13,
     "metadata": {},
     "output_type": "execute_result"
    }
   ],
   "source": [
    "PoissonInput(target=G, target_var=\"s_AMPA\",\n",
    "                                 N=N_extern, rate=firing_rate_extern, weight=w_ext2inhib)"
   ]
  },
  {
   "cell_type": "code",
   "execution_count": 14,
   "id": "e622e46f",
   "metadata": {
    "scrolled": false
   },
   "outputs": [
    {
     "name": "stderr",
     "output_type": "stream",
     "text": [
      "WARNING    Cannot use Cython, a test compilation failed: Microsoft Visual C++ 14.0 or greater is required. Get it with \"Microsoft C++ Build Tools\": https://visualstudio.microsoft.com/visual-cpp-build-tools/ (DistutilsPlatformError) [brian2.codegen.runtime.cython_rt.cython_rt.failed_compile_test]\n",
      "INFO       Cannot use compiled code, falling back to the numpy code generation target. Note that this will likely be slower than using compiled code. Set the code generation to numpy manually to avoid this message:\n",
      "prefs.codegen.target = \"numpy\" [brian2.devices.device.codegen_fallback]\n"
     ]
    },
    {
     "data": {
      "image/png": "[encoded data removed]",
      "text/plain": [
       "<Figure size 432x288 with 1 Axes>"
      ]
     },
     "metadata": {
      "needs_background": "light"
     },
     "output_type": "display_data"
    }
   ],
   "source": [
    "\n",
    "M = StateMonitor(G, 'v', record=True)\n",
    "\n",
    "b2.run(500*b2.ms)\n",
    "\n",
    "b2.plot(M.t/b2.ms, M.v[0])\n",
    "xlabel('Time (ms)')\n",
    "ylabel('v');"
   ]
  },
  {
   "cell_type": "code",
   "execution_count": 31,
   "id": "da440dd2",
   "metadata": {},
   "outputs": [],
   "source": [
    "poisson2G = PoissonInput(target=G, target_var=\"s_AMPA\",\n",
    "                             N=1000, rate=firing_rate_extern, weight=w_ext2excit)"
   ]
  },
  {
   "cell_type": "code",
   "execution_count": 32,
   "id": "91282827",
   "metadata": {},
   "outputs": [],
   "source": [
    "M = StateMonitor(G, 'v', record=True)\n"
   ]
  },
  {
   "cell_type": "code",
   "execution_count": null,
   "id": "7e4d128c",
   "metadata": {
    "scrolled": true
   },
   "outputs": [],
   "source": []
  },
  {
   "cell_type": "code",
   "execution_count": 33,
   "id": "9489f96c",
   "metadata": {},
   "outputs": [
    {
     "data": {
      "text/plain": [
       "32.833020637898684"
      ]
     },
     "execution_count": 33,
     "metadata": {},
     "output_type": "execute_result"
    }
   ],
   "source": [
    "w_ext2excit"
   ]
  },
  {
   "cell_type": "code",
   "execution_count": 34,
   "id": "557fdb07",
   "metadata": {
    "scrolled": false
   },
   "outputs": [
    {
     "data": {
      "image/png": "[encoded data removed]",
      "text/plain": [
       "<Figure size 432x288 with 1 Axes>"
      ]
     },
     "metadata": {
      "needs_background": "light"
     },
     "output_type": "display_data"
    }
   ],
   "source": [
    "start_scope()\n",
    "\n",
    "\n",
    "run(500*ms)\n",
    "\n",
    "plot(M.t/ms, M.v[0])\n",
    "xlabel('Time (ms)')\n",
    "ylabel('v');"
   ]
  },
  {
   "cell_type": "code",
   "execution_count": null,
   "id": "5af65a19",
   "metadata": {},
   "outputs": [],
   "source": []
  },
  {
   "cell_type": "code",
   "execution_count": null,
   "id": "650bb625",
   "metadata": {},
   "outputs": [],
   "source": []
  },
  {
   "cell_type": "code",
   "execution_count": 35,
   "id": "e19eaecf",
   "metadata": {},
   "outputs": [
    {
     "name": "stdout",
     "output_type": "stream",
     "text": [
      "Before v = -70. mV\n"
     ]
    }
   ],
   "source": [
    "start_scope()\n",
    "run(100*ms)\n",
    "print('Before v = %s' % G.v[0])\n"
   ]
  },
  {
   "cell_type": "code",
   "execution_count": 36,
   "id": "7e201181",
   "metadata": {},
   "outputs": [
    {
     "name": "stdout",
     "output_type": "stream",
     "text": [
      "After v = -70. mV\n"
     ]
    }
   ],
   "source": [
    "print('After v = %s' % G.v[0])\n"
   ]
  },
  {
   "cell_type": "code",
   "execution_count": null,
   "id": "a71c29b9",
   "metadata": {},
   "outputs": [],
   "source": []
  },
  {
   "cell_type": "code",
   "execution_count": 40,
   "id": "6ab14d4f",
   "metadata": {},
   "outputs": [],
   "source": [
    "start_scope()\n",
    "# Parameters\n",
    "num_inputs = 100\n",
    "input_rate = 10*Hz\n",
    "weight = 0.1"
   ]
  },
  {
   "cell_type": "code",
   "execution_count": 41,
   "id": "f25ea9f9",
   "metadata": {},
   "outputs": [],
   "source": [
    "tau_range = linspace(1, 10, 30)*ms\n"
   ]
  },
  {
   "cell_type": "code",
   "execution_count": null,
   "id": "7e3d8066",
   "metadata": {},
   "outputs": [],
   "source": []
  },
  {
   "cell_type": "code",
   "execution_count": null,
   "id": "1f464aa8",
   "metadata": {},
   "outputs": [],
   "source": []
  },
  {
   "cell_type": "code",
   "execution_count": null,
   "id": "d2b353d6",
   "metadata": {},
   "outputs": [],
   "source": []
  },
  {
   "cell_type": "code",
   "execution_count": null,
   "id": "7de53cd3",
   "metadata": {},
   "outputs": [],
   "source": []
  },
  {
   "cell_type": "code",
   "execution_count": null,
   "id": "416d342d",
   "metadata": {},
   "outputs": [],
   "source": []
  },
  {
   "cell_type": "code",
   "execution_count": null,
   "id": "44d86b0d",
   "metadata": {},
   "outputs": [],
   "source": []
  },
  {
   "cell_type": "code",
   "execution_count": null,
   "id": "dc7e95f9",
   "metadata": {},
   "outputs": [],
   "source": []
  },
  {
   "cell_type": "code",
   "execution_count": null,
   "id": "72e38ca3",
   "metadata": {},
   "outputs": [],
   "source": []
  }
 ],
 "metadata": {
  "kernelspec": {
   "display_name": "Python 3 (ipykernel)",
   "language": "python",
   "name": "python3"
  },
  "language_info": {
   "codemirror_mode": {
    "name": "ipython",
    "version": 3
   },
   "file_extension": ".py",
   "mimetype": "text/x-python",
   "name": "python",
   "nbconvert_exporter": "python",
   "pygments_lexer": "ipython3",
   "version": "3.10.4"
  }
 },
 "nbformat": 4,
 "nbformat_minor": 5
}
