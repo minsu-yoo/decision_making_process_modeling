{
 "cells": [
  {
   "cell_type": "code",
   "execution_count": null,
   "id": "b95d3963",
   "metadata": {},
   "outputs": [],
   "source": []
  },
  {
   "cell_type": "code",
   "execution_count": null,
   "id": "27faab8f",
   "metadata": {},
   "outputs": [],
   "source": []
  },
  {
   "cell_type": "code",
   "execution_count": null,
   "id": "736d8dca",
   "metadata": {},
   "outputs": [],
   "source": []
  },
  {
   "cell_type": "code",
   "execution_count": null,
   "id": "5b89ffc6",
   "metadata": {},
   "outputs": [],
   "source": []
  },
  {
   "cell_type": "code",
   "execution_count": 14,
   "id": "336295c1",
   "metadata": {},
   "outputs": [],
   "source": [
    "import matplotlib.pyplot as plt\n",
    "import numpy as np"
   ]
  },
  {
   "cell_type": "code",
   "execution_count": null,
   "id": "d091f3c2",
   "metadata": {},
   "outputs": [],
   "source": []
  },
  {
   "cell_type": "markdown",
   "id": "2821cdbf",
   "metadata": {},
   "source": [
    "Default mean stiumulus is set to 160 in the code. "
   ]
  },
  {
   "cell_type": "code",
   "execution_count": 9,
   "id": "e0736f90",
   "metadata": {},
   "outputs": [],
   "source": [
    "mu0_mean_stimulus_Hz = 80"
   ]
  },
  {
   "cell_type": "code",
   "execution_count": 25,
   "id": "0eefe0cd",
   "metadata": {},
   "outputs": [],
   "source": [
    "coherence_levels = np.arange(0,1,.01)"
   ]
  },
  {
   "cell_type": "code",
   "execution_count": 26,
   "id": "6ac66ae4",
   "metadata": {},
   "outputs": [
    {
     "data": {
      "text/plain": [
       "array([0.  , 0.01, 0.02, 0.03, 0.04, 0.05, 0.06, 0.07, 0.08, 0.09, 0.1 ,\n",
       "       0.11, 0.12, 0.13, 0.14, 0.15, 0.16, 0.17, 0.18, 0.19, 0.2 , 0.21,\n",
       "       0.22, 0.23, 0.24, 0.25, 0.26, 0.27, 0.28, 0.29, 0.3 , 0.31, 0.32,\n",
       "       0.33, 0.34, 0.35, 0.36, 0.37, 0.38, 0.39, 0.4 , 0.41, 0.42, 0.43,\n",
       "       0.44, 0.45, 0.46, 0.47, 0.48, 0.49, 0.5 , 0.51, 0.52, 0.53, 0.54,\n",
       "       0.55, 0.56, 0.57, 0.58, 0.59, 0.6 , 0.61, 0.62, 0.63, 0.64, 0.65,\n",
       "       0.66, 0.67, 0.68, 0.69, 0.7 , 0.71, 0.72, 0.73, 0.74, 0.75, 0.76,\n",
       "       0.77, 0.78, 0.79, 0.8 , 0.81, 0.82, 0.83, 0.84, 0.85, 0.86, 0.87,\n",
       "       0.88, 0.89, 0.9 , 0.91, 0.92, 0.93, 0.94, 0.95, 0.96, 0.97, 0.98,\n",
       "       0.99])"
      ]
     },
     "execution_count": 26,
     "metadata": {},
     "output_type": "execute_result"
    }
   ],
   "source": [
    "coherence_levels"
   ]
  },
  {
   "cell_type": "code",
   "execution_count": 27,
   "id": "e3513825",
   "metadata": {},
   "outputs": [],
   "source": [
    "mean_stim  = mean_stimulus(coherence_levels)"
   ]
  },
  {
   "cell_type": "code",
   "execution_count": 29,
   "id": "ae378900",
   "metadata": {
    "scrolled": false
   },
   "outputs": [
    {
     "data": {
      "text/plain": [
       "array([40. , 40.4, 40.8, 41.2, 41.6, 42. , 42.4, 42.8, 43.2, 43.6, 44. ,\n",
       "       44.4, 44.8, 45.2, 45.6, 46. , 46.4, 46.8, 47.2, 47.6, 48. , 48.4,\n",
       "       48.8, 49.2, 49.6, 50. , 50.4, 50.8, 51.2, 51.6, 52. , 52.4, 52.8,\n",
       "       53.2, 53.6, 54. , 54.4, 54.8, 55.2, 55.6, 56. , 56.4, 56.8, 57.2,\n",
       "       57.6, 58. , 58.4, 58.8, 59.2, 59.6, 60. , 60.4, 60.8, 61.2, 61.6,\n",
       "       62. , 62.4, 62.8, 63.2, 63.6, 64. , 64.4, 64.8, 65.2, 65.6, 66. ,\n",
       "       66.4, 66.8, 67.2, 67.6, 68. , 68.4, 68.8, 69.2, 69.6, 70. , 70.4,\n",
       "       70.8, 71.2, 71.6, 72. , 72.4, 72.8, 73.2, 73.6, 74. , 74.4, 74.8,\n",
       "       75.2, 75.6, 76. , 76.4, 76.8, 77.2, 77.6, 78. , 78.4, 78.8, 79.2,\n",
       "       79.6])"
      ]
     },
     "execution_count": 29,
     "metadata": {},
     "output_type": "execute_result"
    }
   ],
   "source": [
    "mean_stim[0]"
   ]
  },
  {
   "cell_type": "code",
   "execution_count": 10,
   "id": "60f047f1",
   "metadata": {},
   "outputs": [],
   "source": [
    "def mean_stimulus(coherence_level):\n",
    "    offset_A = mu0_mean_stimulus_Hz * (0.5 + 0.5 * coherence_level)\n",
    "    offset_B = mu0_mean_stimulus_Hz * (0.5 - 0.5 * coherence_level)\n",
    "    return offset_A, offset_B\n",
    "\n"
   ]
  },
  {
   "cell_type": "code",
   "execution_count": null,
   "id": "d12dac8e",
   "metadata": {},
   "outputs": [],
   "source": []
  },
  {
   "cell_type": "code",
   "execution_count": 11,
   "id": "b88082d5",
   "metadata": {
    "scrolled": true
   },
   "outputs": [
    {
     "data": {
      "text/plain": [
       "(40.0, 40.0)"
      ]
     },
     "execution_count": 11,
     "metadata": {},
     "output_type": "execute_result"
    }
   ],
   "source": [
    "mean_stimulus(0)"
   ]
  },
  {
   "cell_type": "code",
   "execution_count": 13,
   "id": "d89f4617",
   "metadata": {},
   "outputs": [
    {
     "data": {
      "text/plain": [
       "40.0"
      ]
     },
     "execution_count": 13,
     "metadata": {},
     "output_type": "execute_result"
    }
   ],
   "source": [
    "mean_stimulus(0)[0]"
   ]
  },
  {
   "cell_type": "code",
   "execution_count": null,
   "id": "86a787f8",
   "metadata": {},
   "outputs": [],
   "source": [
    "mean_stimulus(0)[0]"
   ]
  },
  {
   "cell_type": "markdown",
   "id": "83aa5d7c",
   "metadata": {},
   "source": [
    "how to set ax"
   ]
  },
  {
   "cell_type": "code",
   "execution_count": null,
   "id": "008eed0b",
   "metadata": {},
   "outputs": [],
   "source": [
    "ax.spines['top'].set_visible(False)\n",
    "#ax.spines['right'].set_visible(False)"
   ]
  },
  {
   "cell_type": "code",
   "execution_count": 80,
   "id": "bf13f768",
   "metadata": {
    "scrolled": false
   },
   "outputs": [
    {
     "ename": "AttributeError",
     "evalue": "'function' object has no attribute 'spines'",
     "output_type": "error",
     "traceback": [
      "\u001b[1;31m---------------------------------------------------------------------------\u001b[0m",
      "\u001b[1;31mAttributeError\u001b[0m                            Traceback (most recent call last)",
      "Input \u001b[1;32mIn [80]\u001b[0m, in \u001b[0;36m<cell line: 11>\u001b[1;34m()\u001b[0m\n\u001b[0;32m      5\u001b[0m font \u001b[38;5;241m=\u001b[39m {\u001b[38;5;124m'\u001b[39m\u001b[38;5;124mfamily\u001b[39m\u001b[38;5;124m'\u001b[39m : \u001b[38;5;124m'\u001b[39m\u001b[38;5;124msans-serif\u001b[39m\u001b[38;5;124m'\u001b[39m,\n\u001b[0;32m      6\u001b[0m         \u001b[38;5;124m'\u001b[39m\u001b[38;5;124mweight\u001b[39m\u001b[38;5;124m'\u001b[39m : \u001b[38;5;124m'\u001b[39m\u001b[38;5;124mnormal\u001b[39m\u001b[38;5;124m'\u001b[39m,\n\u001b[0;32m      7\u001b[0m         \u001b[38;5;124m'\u001b[39m\u001b[38;5;124msize\u001b[39m\u001b[38;5;124m'\u001b[39m   : \u001b[38;5;241m15\u001b[39m}\n\u001b[0;32m      9\u001b[0m plt\u001b[38;5;241m.\u001b[39mrc(\u001b[38;5;124m'\u001b[39m\u001b[38;5;124mfont\u001b[39m\u001b[38;5;124m'\u001b[39m, \u001b[38;5;241m*\u001b[39m\u001b[38;5;241m*\u001b[39mfont)\n\u001b[1;32m---> 11\u001b[0m \u001b[43mplt\u001b[49m\u001b[38;5;241;43m.\u001b[39;49m\u001b[43maxis\u001b[49m\u001b[38;5;241;43m.\u001b[39;49m\u001b[43mspines\u001b[49m[\u001b[38;5;124m'\u001b[39m\u001b[38;5;124mtop\u001b[39m\u001b[38;5;124m'\u001b[39m]\u001b[38;5;241m.\u001b[39mset_visible(\u001b[38;5;28;01mFalse\u001b[39;00m)\n\u001b[0;32m     12\u001b[0m \u001b[38;5;66;03m#ax.spines['right'].set_visible(False)\u001b[39;00m\n\u001b[0;32m     14\u001b[0m plt\u001b[38;5;241m.\u001b[39mshow()\n",
      "\u001b[1;31mAttributeError\u001b[0m: 'function' object has no attribute 'spines'"
     ]
    },
    {
     "data": {
      "image/png": "[encoded data removed]",
      "text/plain": [
       "<Figure size 432x288 with 1 Axes>"
      ]
     },
     "metadata": {
      "needs_background": "light"
     },
     "output_type": "display_data"
    }
   ],
   "source": [
    "\n",
    "\n",
    "plt.plot(coherence_levels,mean_stim[0])\n",
    "plt.plot(coherence_levels,mean_stim[1])\n",
    "plt.xlabel(\"coherence c' (%)\")\n",
    "\n",
    "font = {'family' : 'sans-serif',\n",
    "        'weight' : 'normal',\n",
    "        'size'   : 15}\n",
    "\n",
    "plt.rc('font', **font)\n",
    "\n",
    "plt.axis.spines['top'].set_visible(False)\n",
    "#ax.spines['right'].set_visible(False)\n",
    "\n",
    "plt.show()"
   ]
  },
  {
   "cell_type": "code",
   "execution_count": 92,
   "id": "00fcd8d1",
   "metadata": {
    "scrolled": true
   },
   "outputs": [
    {
     "data": {
      "image/png": "[encoded data removed]",
      "text/plain": [
       "<Figure size 400x300 with 1 Axes>"
      ]
     },
     "metadata": {},
     "output_type": "display_data"
    }
   ],
   "source": [
    "import matplotlib.pyplot as plt\n",
    "import numpy as np\n",
    "\n",
    "plt.style.use('default')\n",
    "plt.rcParams['figure.figsize'] = (4, 3)\n",
    "plt.rcParams['font.size'] = 12\n",
    "\n",
    "fig, ax = plt.subplots()\n",
    "\n",
    "plt.plot(coherence_levels,mean_stim[0])\n",
    "plt.plot(coherence_levels,mean_stim[1])\n",
    "plt.xlabel(\"coherence c' (%)\")\n",
    "\n",
    "font = {'family' : 'sans-serif',\n",
    "        'weight' : 'normal',\n",
    "        'size'   : 15}\n",
    "\n",
    "plt.rc('font', **font)\n",
    "\n",
    "#ax.spines['right'].set_visible(False)\n",
    "ax.spines['top'].set_visible(False)        # 왼쪽 축을 가운데 위치로 이동\n",
    "ax.spines['right'].set_visible(False)          # 오른쪽 축을 보이지 않도록\n",
    "\n",
    "\n",
    "\n",
    "plt.show()\n",
    "\n"
   ]
  },
  {
   "cell_type": "code",
   "execution_count": 91,
   "id": "5a19db9f",
   "metadata": {},
   "outputs": [
    {
     "data": {
      "image/png": "[encoded data removed]",
      "text/plain": [
       "<Figure size 400x300 with 1 Axes>"
      ]
     },
     "metadata": {},
     "output_type": "display_data"
    }
   ],
   "source": [
    "import matplotlib.pyplot as plt\n",
    "import numpy as np\n",
    "\n",
    "plt.style.use('default')\n",
    "plt.rcParams['figure.figsize'] = (4, 3)\n",
    "plt.rcParams['font.size'] = 12\n",
    "\n",
    "fig, ax = plt.subplots()\n",
    "\n",
    "plt.plot(coherence_levels,mean_stim[0])\n",
    "plt.plot(coherence_levels,mean_stim[1])\n",
    "plt.xlabel(\"coherence c' (%)\")\n",
    "plt.ylabel(\"mean stimulus\")\n",
    "\n",
    "\n",
    "\n",
    "#ax.spines['right'].set_visible(False)\n",
    "ax.spines['top'].set_visible(False)        # 왼쪽 축을 가운데 위치로 이동\n",
    "ax.spines['right'].set_visible(False)          # 오른쪽 축을 보이지 않도록\n",
    "\n",
    "\n",
    "\n",
    "plt.show()\n",
    "\n"
   ]
  },
  {
   "cell_type": "code",
   "execution_count": 83,
   "id": "16a625e4",
   "metadata": {
    "scrolled": true
   },
   "outputs": [
    {
     "data": {
      "text/plain": [
       "array([0.  , 0.01, 0.02, 0.03, 0.04, 0.05, 0.06, 0.07, 0.08, 0.09, 0.1 ,\n",
       "       0.11, 0.12, 0.13, 0.14, 0.15, 0.16, 0.17, 0.18, 0.19, 0.2 , 0.21,\n",
       "       0.22, 0.23, 0.24, 0.25, 0.26, 0.27, 0.28, 0.29, 0.3 , 0.31, 0.32,\n",
       "       0.33, 0.34, 0.35, 0.36, 0.37, 0.38, 0.39, 0.4 , 0.41, 0.42, 0.43,\n",
       "       0.44, 0.45, 0.46, 0.47, 0.48, 0.49, 0.5 , 0.51, 0.52, 0.53, 0.54,\n",
       "       0.55, 0.56, 0.57, 0.58, 0.59, 0.6 , 0.61, 0.62, 0.63, 0.64, 0.65,\n",
       "       0.66, 0.67, 0.68, 0.69, 0.7 , 0.71, 0.72, 0.73, 0.74, 0.75, 0.76,\n",
       "       0.77, 0.78, 0.79, 0.8 , 0.81, 0.82, 0.83, 0.84, 0.85, 0.86, 0.87,\n",
       "       0.88, 0.89, 0.9 , 0.91, 0.92, 0.93, 0.94, 0.95, 0.96, 0.97, 0.98,\n",
       "       0.99])"
      ]
     },
     "execution_count": 83,
     "metadata": {},
     "output_type": "execute_result"
    }
   ],
   "source": [
    "coherence_levels\n"
   ]
  },
  {
   "cell_type": "code",
   "execution_count": null,
   "id": "5fe936a3",
   "metadata": {},
   "outputs": [],
   "source": [
    "plt.plot(coherence_levels, )"
   ]
  },
  {
   "cell_type": "code",
   "execution_count": 34,
   "id": "9de8554d",
   "metadata": {
    "scrolled": false
   },
   "outputs": [
    {
     "ename": "TypeError",
     "evalue": "'function' object is not subscriptable",
     "output_type": "error",
     "traceback": [
      "\u001b[1;31m---------------------------------------------------------------------------\u001b[0m",
      "\u001b[1;31mTypeError\u001b[0m                                 Traceback (most recent call last)",
      "Input \u001b[1;32mIn [34]\u001b[0m, in \u001b[0;36m<cell line: 1>\u001b[1;34m()\u001b[0m\n\u001b[1;32m----> 1\u001b[0m \u001b[43mmean_stimulus\u001b[49m\u001b[43m[\u001b[49m\u001b[38;5;241;43m0\u001b[39;49m\u001b[43m]\u001b[49m\n",
      "\u001b[1;31mTypeError\u001b[0m: 'function' object is not subscriptable"
     ]
    }
   ],
   "source": [
    "mean_stimulus[0]"
   ]
  },
  {
   "cell_type": "code",
   "execution_count": null,
   "id": "a88fa7df",
   "metadata": {},
   "outputs": [],
   "source": [
    "\n",
    " # Define the stimulus: two PoissonInput with time time-dependent mean.\n",
    "    poissonStimulus2A = PoissonGroup(N_Group_A, 0. * b2.Hz)\n",
    "    syn_Stim2A = Synapses(poissonStimulus2A, excit_pop_A, on_pre=\"s_AMPA+=w_ext2excit\")\n",
    "    syn_Stim2A.connect(j=\"i\")\n",
    "    poissonStimulus2B = PoissonGroup(N_Group_B, 0. * b2.Hz)\n",
    "    syn_Stim2B = Synapses(poissonStimulus2B, excit_pop_B, on_pre=\"s_AMPA+=w_ext2excit\")\n",
    "    syn_Stim2B.connect(j=\"i\")\n",
    "    \n",
    "    \n",
    "@network_operation(dt=stimulus_update_interval)\n",
    "    def update_poisson_stimulus(t):\n",
    "        if t >= t_stimulus_start and t < t_stimulus_end:\n",
    "            offset_A = mu0_mean_stimulus_Hz * (0.5 + 0.5 * coherence_level)\n",
    "            offset_B = mu0_mean_stimulus_Hz * (0.5 - 0.5 * coherence_level)\n",
    "\n",
    "            rate_A = numpy.random.normal(offset_A, stimulus_std_Hz)\n",
    "            rate_A = (max(0, rate_A)) * b2.Hz  # avoid negative rate\n",
    "            rate_B = numpy.random.normal(offset_B, stimulus_std_Hz)\n",
    "            rate_B = (max(0, rate_B)) * b2.Hz\n",
    "\n",
    "            poissonStimulus2A.rates = rate_A\n",
    "            poissonStimulus2B.rates = rate_B\n",
    "            # print(\"stim on. rate_A= {}, rate_B = {}\".format(rate_A, rate_B))\n",
    "        else:\n",
    "            # print(\"stim off\")\n",
    "            poissonStimulus2A.rates = 0.\n",
    "            poissonStimulus2B.rates = 0."
   ]
  }
 ],
 "metadata": {
  "kernelspec": {
   "display_name": "Python 3 (ipykernel)",
   "language": "python",
   "name": "python3"
  },
  "language_info": {
   "codemirror_mode": {
    "name": "ipython",
    "version": 3
   },
   "file_extension": ".py",
   "mimetype": "text/x-python",
   "name": "python",
   "nbconvert_exporter": "python",
   "pygments_lexer": "ipython3",
   "version": "3.10.4"
  }
 },
 "nbformat": 4,
 "nbformat_minor": 5
}
