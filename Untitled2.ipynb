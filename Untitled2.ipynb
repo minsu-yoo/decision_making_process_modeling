{
 "cells": [
  {
   "cell_type": "code",
   "execution_count": 30,
   "id": "b9ef65ce",
   "metadata": {},
   "outputs": [],
   "source": [
    "\n",
    "# remember, this is here for running separate simulations in the same notebook\n",
    "# Parameters\n",
    "\n",
    "N_Excit=384 \n",
    "N_Inhib=96 \n",
    "weight_scaling_factor=5.33\n",
    "t_stimulus_start=100 * b2.ms \n",
    "t_stimulus_duration=9999 * b2.ms \n",
    "coherence_level=0\n",
    "stimulus_update_interval=30 * b2.ms\n",
    "mu0_mean_stimulus_Hz=160\n",
    "w_pos=1.90\n",
    "firing_rate_extern=9.8 * b2.Hz\n",
    "N_extern=1000 \n",
    "stimulus_std_Hz=20.\n",
    "f_Subpop_size=0.25  # .15 in publication [1]\n",
    "max_sim_time=1000. * b2.ms \n",
    "stop_condition_rate=None\n",
    "monitored_subset_size=512"
   ]
  },
  {
   "cell_type": "code",
   "execution_count": 31,
   "id": "8ea13ab2",
   "metadata": {},
   "outputs": [
    {
     "name": "stdout",
     "output_type": "stream",
     "text": [
      "simulating 480 neurons. Start: Tue May 31 11:10:12 2022\n"
     ]
    }
   ],
   "source": [
    "print(\"simulating {} neurons. Start: {}\".format(N_Excit + N_Inhib, time.ctime()))\n",
    "t_stimulus_end = t_stimulus_start + t_stimulus_duration\n",
    "\n",
    "N_Group_A = int(N_Excit * f_Subpop_size)  # size of the excitatory subpopulation sensitive to stimulus A\n",
    "N_Group_B = N_Group_A  # size of the excitatory subpopulation sensitive to stimulus B\n",
    "N_Group_Z = N_Excit - N_Group_A - N_Group_B  # (1-2f)Ne excitatory neurons do not respond to either stimulus.\n",
    "\n",
    "Cm_excit = 0.5 * b2.nF  # membrane capacitance of excitatory neurons0\n",
    "G_leak_excit = 25.0 * b2.nS  # leak conductance\n",
    "E_leak_excit = -70.0 * b2.mV  # reversal potential\n",
    "v_spike_thr_excit = -50.0 * b2.mV  # spike condition\n",
    "v_reset_excit = -60.0 * b2.mV  # reset voltage after spike\n",
    "t_abs_refract_excit = 2. * b2.ms  # absolute refractory period"
   ]
  },
  {
   "cell_type": "code",
   "execution_count": 32,
   "id": "43473581",
   "metadata": {},
   "outputs": [],
   "source": [
    "Cm_excit = 0.5 * b2.nF  # membrane capacitance of excitatory neurons0\n",
    "G_leak_excit = 25.0 * b2.nS  # leak conductance\n",
    "E_leak_excit = -70.0 * b2.mV  # reversal potential\n",
    "v_spike_thr_excit = -50.0 * b2.mV  # spike condition\n",
    "v_reset_excit = -60.0 * b2.mV  # reset voltage after spike\n",
    "t_abs_refract_excit = 2. * b2.ms  # absolute refractory period\n",
    "\n",
    "# specify the inhibitory interneurons:\n",
    "# N_Inhib = 200\n",
    "Cm_inhib = 0.2 * b2.nF\n",
    "G_leak_inhib = 20.0 * b2.nS\n",
    "E_leak_inhib = -70.0 * b2.mV\n",
    "v_spike_thr_inhib = -50.0 * b2.mV\n",
    "v_reset_inhib = -60.0 * b2.mV\n",
    "t_abs_refract_inhib = 1.0 * b2.ms\n",
    "\n",
    "# specify the AMPA synapses\n",
    "E_AMPA = 0.0 * b2.mV\n",
    "tau_AMPA = 2.5 * b2.ms\n",
    "\n",
    "# specify the GABA synapses\n",
    "E_GABA = -70.0 * b2.mV\n",
    "tau_GABA = 5.0 * b2.ms\n",
    "\n",
    "# specify the NMDA synapses\n",
    "E_NMDA = 0.0 * b2.mV\n",
    "tau_NMDA_s = 100.0 * b2.ms\n",
    "tau_NMDA_x = 2. * b2.ms\n",
    "alpha_NMDA = 0.5 * b2.kHz\n",
    "\n",
    "# projections from the external population\n",
    "g_AMPA_extern2inhib = 1.62 * b2.nS\n",
    "g_AMPA_extern2excit = 2.1 * b2.nS\n",
    "\n",
    "# projectsions from the inhibitory populations\n",
    "g_GABA_inhib2inhib = weight_scaling_factor * 1.25 * b2.nS\n",
    "g_GABA_inhib2excit = weight_scaling_factor * 1.60 * b2.nS\n",
    "\n",
    "# projections from the excitatory population\n",
    "g_AMPA_excit2excit = weight_scaling_factor * 0.012 * b2.nS\n",
    "g_AMPA_excit2inhib = weight_scaling_factor * 0.015 * b2.nS\n",
    "g_NMDA_excit2excit = weight_scaling_factor * 0.040 * b2.nS\n",
    "g_NMDA_excit2inhib = weight_scaling_factor * 0.045 * b2.nS  # stronger projection to inhib.\n",
    "\n",
    "# weights and \"adjusted\" weights.\n",
    "w_neg = 1. - f_Subpop_size * (w_pos - 1.) / (1. - f_Subpop_size)\n",
    "# We use the same postsyn AMPA and NMDA conductances. Adjust the weights coming from different sources:\n",
    "w_ext2inhib = g_AMPA_extern2inhib / g_AMPA_excit2inhib\n",
    "w_ext2excit = g_AMPA_extern2excit / g_AMPA_excit2excit"
   ]
  },
  {
   "cell_type": "code",
   "execution_count": 33,
   "id": "d94b9b62",
   "metadata": {},
   "outputs": [],
   "source": [
    "# weights and \"adjusted\" weights.\n",
    "w_neg = 1. - f_Subpop_size * (w_pos - 1.) / (1. - f_Subpop_size)\n",
    "# We use the same postsyn AMPA and NMDA conductances. Adjust the weights coming from different sources:\n",
    "w_ext2inhib = g_AMPA_extern2inhib / g_AMPA_excit2inhib\n",
    "w_ext2excit = g_AMPA_extern2excit / g_AMPA_excit2excit\n",
    "# other weights are 1\n",
    "# print(\"w_neg={}, w_ext2inhib={}, w_ext2excit={}\".format(w_neg, w_ext2inhib, w_ext2excit))"
   ]
  },
  {
   "cell_type": "code",
   "execution_count": 34,
   "id": "0581b1c7",
   "metadata": {},
   "outputs": [],
   "source": [
    "inhib_lif_dynamics = \"\"\"\n",
    "    s_NMDA_total : 1  # the post synaptic sum of s. compare with s_NMDA_presyn\n",
    "    dv/dt = (\n",
    "    - G_leak_inhib * (v-E_leak_inhib)\n",
    "    - g_AMPA_excit2inhib * s_AMPA * (v-E_AMPA)\n",
    "    - g_GABA_inhib2inhib * s_GABA * (v-E_GABA)\n",
    "    - g_NMDA_excit2inhib * s_NMDA_total * (v-E_NMDA)/(1.0+1.0*exp(-0.062*v/volt)/3.57)\n",
    "    )/Cm_inhib : volt (unless refractory)\n",
    "    ds_AMPA/dt = -s_AMPA/tau_AMPA : 1\n",
    "    ds_GABA/dt = -s_GABA/tau_GABA : 1\n",
    "\"\"\""
   ]
  },
  {
   "cell_type": "code",
   "execution_count": 35,
   "id": "d83c8972",
   "metadata": {},
   "outputs": [],
   "source": [
    "inhib_pop = NeuronGroup(\n",
    "    N_Inhib, model=inhib_lif_dynamics,\n",
    "    threshold=\"v>v_spike_thr_inhib\", reset=\"v=v_reset_inhib\", refractory=t_abs_refract_inhib,\n",
    "    method=\"rk2\")\n",
    "# initialize with random voltages:\n",
    "inhib_pop.v = rnd.uniform(v_spike_thr_inhib / b2.mV - 4., high=v_spike_thr_inhib / b2.mV - 1., size=N_Inhib) * b2.mV\n",
    "\n",
    "# Specify the excitatory population:\n",
    "# dynamics:\n",
    "excit_lif_dynamics = \"\"\"\n",
    "    s_NMDA_total : 1  # the post synaptic sum of s. compare with s_NMDA_presyn\n",
    "    dv/dt = (\n",
    "    - G_leak_excit * (v-E_leak_excit)\n",
    "    - g_AMPA_excit2excit * s_AMPA * (v-E_AMPA)\n",
    "    - g_GABA_inhib2excit * s_GABA * (v-E_GABA)\n",
    "    - g_NMDA_excit2excit * s_NMDA_total * (v-E_NMDA)/(1.0+1.0*exp(-0.062*v/volt)/3.57)\n",
    "    )/Cm_excit : volt (unless refractory)\n",
    "    ds_AMPA/dt = -s_AMPA/tau_AMPA : 1\n",
    "    ds_GABA/dt = -s_GABA/tau_GABA : 1\n",
    "    ds_NMDA/dt = -s_NMDA/tau_NMDA_s + alpha_NMDA * x * (1-s_NMDA) : 1\n",
    "    dx/dt = -x/tau_NMDA_x : 1\n",
    "\"\"\"\n",
    "\n",
    "# define the three excitatory subpopulations.\n",
    "# A: subpop receiving stimulus A\n",
    "excit_pop_A = NeuronGroup(N_Group_A, model=excit_lif_dynamics,\n",
    "                          threshold=\"v>v_spike_thr_excit\", reset=\"v=v_reset_excit\",\n",
    "                          refractory=t_abs_refract_excit, method=\"rk2\")\n",
    "excit_pop_A.v = rnd.uniform(E_leak_excit / b2.mV, high=E_leak_excit / b2.mV + 5., size=excit_pop_A.N) * b2.mV\n",
    "\n",
    "# B: subpop receiving stimulus B\n",
    "excit_pop_B = NeuronGroup(N_Group_B, model=excit_lif_dynamics, threshold=\"v>v_spike_thr_excit\",\n",
    "                          reset=\"v=v_reset_excit\", refractory=t_abs_refract_excit, method=\"rk2\")\n",
    "excit_pop_B.v = rnd.uniform(E_leak_excit / b2.mV, high=E_leak_excit / b2.mV + 5., size=excit_pop_B.N) * b2.mV\n",
    "# Z: non-sensitive\n",
    "excit_pop_Z = NeuronGroup(N_Group_Z, model=excit_lif_dynamics,\n",
    "                          threshold=\"v>v_spike_thr_excit\", reset=\"v=v_reset_excit\",\n",
    "                          refractory=t_abs_refract_excit, method=\"rk2\")\n",
    "excit_pop_Z.v = rnd.uniform(v_reset_excit / b2.mV, high=v_spike_thr_excit / b2.mV - 1., size=excit_pop_Z.N) * b2.mV\n",
    "\n",
    "# now define the connections:\n",
    "# projections FROM EXTERNAL POISSON GROUP: ####################################################\n",
    "poisson2Inhib = PoissonInput(target=inhib_pop, target_var=\"s_AMPA\",\n",
    "                             N=N_extern, rate=firing_rate_extern, weight=w_ext2inhib)\n",
    "poisson2A = PoissonInput(target=excit_pop_A, target_var=\"s_AMPA\",\n",
    "                         N=N_extern, rate=firing_rate_extern, weight=w_ext2excit)\n",
    "\n",
    "poisson2B = PoissonInput(target=excit_pop_B, target_var=\"s_AMPA\",\n",
    "                         N=N_extern, rate=firing_rate_extern, weight=w_ext2excit)\n",
    "poisson2Z = PoissonInput(target=excit_pop_Z, target_var=\"s_AMPA\",\n",
    "                         N=N_extern, rate=firing_rate_extern, weight=w_ext2excit)\n",
    "\n",
    "###############################################################################################"
   ]
  },
  {
   "cell_type": "code",
   "execution_count": null,
   "id": "0bf9195e",
   "metadata": {},
   "outputs": [],
   "source": []
  },
  {
   "cell_type": "code",
   "execution_count": 37,
   "id": "9654ea5a",
   "metadata": {},
   "outputs": [],
   "source": [
    "import brian2 as b2\n",
    "from brian2 import NeuronGroup, Synapses, PoissonInput, PoissonGroup, network_operation\n",
    "from brian2.monitors import StateMonitor, SpikeMonitor, PopulationRateMonitor\n",
    "from random import sample\n",
    "import numpy.random as rnd\n",
    "from neurodynex3.tools import plot_tools\n",
    "import numpy\n",
    "import matplotlib.pyplot as plt\n",
    "from math import floor\n",
    "import time\n",
    "\n",
    "b2.defaultclock.dt = 0.10 * b2.ms\n",
    "\n",
    "\n",
    "# Define the stimulus: two PoissonInput with time time-dependent mean.\n",
    "poissonStimulus2A = PoissonGroup(N_Group_A, 0. * b2.Hz)\n",
    "syn_Stim2A = Synapses(poissonStimulus2A, excit_pop_A, on_pre=\"s_AMPA+=w_ext2excit\")\n",
    "syn_Stim2A.connect(j=\"i\")\n",
    "poissonStimulus2B = PoissonGroup(N_Group_B, 0. * b2.Hz)\n",
    "syn_Stim2B = Synapses(poissonStimulus2B, excit_pop_B, on_pre=\"s_AMPA+=w_ext2excit\")\n",
    "syn_Stim2B.connect(j=\"i\")\n",
    "\n",
    "    \n",
    "@network_operation(dt=stimulus_update_interval)\n",
    "def update_poisson_stimulus(t):\n",
    "    if t >= t_stimulus_start and t < t_stimulus_end:\n",
    "        offset_A = mu0_mean_stimulus_Hz * (0.5 + 0.5 * coherence_level)\n",
    "        offset_B = mu0_mean_stimulus_Hz * (0.5 - 0.5 * coherence_level)\n",
    "\n",
    "        rate_A = numpy.random.normal(offset_A, stimulus_std_Hz)\n",
    "        rate_A = (max(0, rate_A)) * b2.Hz  # avoid negative rate\n",
    "        rate_B = numpy.random.normal(offset_B, stimulus_std_Hz)\n",
    "        rate_B = (max(0, rate_B)) * b2.Hz\n",
    "\n",
    "        poissonStimulus2A.rates = rate_A\n",
    "        poissonStimulus2B.rates = rate_B\n",
    "        # print(\"stim on. rate_A= {}, rate_B = {}\".format(rate_A, rate_B))\n",
    "    else:\n",
    "        # print(\"stim off\")\n",
    "        poissonStimulus2A.rates = 0.\n",
    "        poissonStimulus2B.rates = 0."
   ]
  },
  {
   "cell_type": "code",
   "execution_count": 39,
   "id": "2d37e6d2",
   "metadata": {},
   "outputs": [
    {
     "ename": "NameError",
     "evalue": "name 'offset_A' is not defined",
     "output_type": "error",
     "traceback": [
      "\u001b[1;31m---------------------------------------------------------------------------\u001b[0m",
      "\u001b[1;31mNameError\u001b[0m                                 Traceback (most recent call last)",
      "Input \u001b[1;32mIn [39]\u001b[0m, in \u001b[0;36m<cell line: 1>\u001b[1;34m()\u001b[0m\n\u001b[1;32m----> 1\u001b[0m rate_A \u001b[38;5;241m=\u001b[39m numpy\u001b[38;5;241m.\u001b[39mrandom\u001b[38;5;241m.\u001b[39mnormal(\u001b[43moffset_A\u001b[49m, stimulus_std_Hz)\n",
      "\u001b[1;31mNameError\u001b[0m: name 'offset_A' is not defined"
     ]
    }
   ],
   "source": [
    "rate_A = numpy.random.normal(offset_A, stimulus_std_Hz)"
   ]
  },
  {
   "cell_type": "code",
   "execution_count": 40,
   "id": "b10d9f75",
   "metadata": {},
   "outputs": [],
   "source": [
    "offset_A = mu0_mean_stimulus_Hz * (0.5 + 0.5 * coherence_level)\n",
    "offset_B = mu0_mean_stimulus_Hz * (0.5 - 0.5 * coherence_level)\n",
    "\n",
    "rate_A = numpy.random.normal(offset_A, stimulus_std_Hz)\n",
    "rate_A = (max(0, rate_A)) * b2.Hz  # avoid negative rate\n",
    "rate_B = numpy.random.normal(offset_B, stimulus_std_Hz)\n",
    "rate_B = (max(0, rate_B)) * b2.Hz\n",
    "\n",
    "poissonStimulus2A.rates = rate_A\n",
    "poissonStimulus2B.rates = rate_B"
   ]
  },
  {
   "cell_type": "code",
   "execution_count": 41,
   "id": "46de71b2",
   "metadata": {},
   "outputs": [
    {
     "data": {
      "text/latex": [
       "$59.6813094250573\\,\\mathrm{Hz}$"
      ],
      "text/plain": [
       "59.68130943 * hertz"
      ]
     },
     "execution_count": 41,
     "metadata": {},
     "output_type": "execute_result"
    }
   ],
   "source": [
    "rate_A"
   ]
  },
  {
   "cell_type": "code",
   "execution_count": 42,
   "id": "3837eab3",
   "metadata": {},
   "outputs": [
    {
     "data": {
      "text/latex": [
       "$59.6813094250573\\,\\mathrm{Hz}$"
      ],
      "text/plain": [
       "59.68130943 * hertz"
      ]
     },
     "execution_count": 42,
     "metadata": {},
     "output_type": "execute_result"
    }
   ],
   "source": [
    "rate_A"
   ]
  },
  {
   "cell_type": "code",
   "execution_count": null,
   "id": "c7ee61b2",
   "metadata": {},
   "outputs": [],
   "source": []
  }
 ],
 "metadata": {
  "kernelspec": {
   "display_name": "Python 3 (ipykernel)",
   "language": "python",
   "name": "python3"
  },
  "language_info": {
   "codemirror_mode": {
    "name": "ipython",
    "version": 3
   },
   "file_extension": ".py",
   "mimetype": "text/x-python",
   "name": "python",
   "nbconvert_exporter": "python",
   "pygments_lexer": "ipython3",
   "version": "3.10.4"
  }
 },
 "nbformat": 4,
 "nbformat_minor": 5
}
