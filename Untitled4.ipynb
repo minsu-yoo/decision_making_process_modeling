{
 "cells": [
  {
   "cell_type": "code",
   "execution_count": 1,
   "id": "d3467239",
   "metadata": {},
   "outputs": [],
   "source": [
    "# 20 번 simulation 돌리기\n",
    "\n",
    "\n",
    "import brian2"
   ]
  },
  {
   "cell_type": "code",
   "execution_count": 5,
   "id": "165377c2",
   "metadata": {},
   "outputs": [],
   "source": [
    "from brian2 import *\n",
    "%matplotlib inline"
   ]
  },
  {
   "cell_type": "code",
   "execution_count": 6,
   "id": "d0503dd3",
   "metadata": {},
   "outputs": [
    {
     "data": {
      "image/png": "[encoded data removed]",
      "text/plain": [
       "<Figure size 432x288 with 1 Axes>"
      ]
     },
     "metadata": {
      "needs_background": "light"
     },
     "output_type": "display_data"
    }
   ],
   "source": [
    "num_inputs = 100\n",
    "input_rate = 10*Hz\n",
    "weight = 0.1\n",
    "tau_range = linspace(1, 10, 30)*ms\n",
    "output_rates = []\n",
    "# Construct the Poisson spikes just once\n",
    "P = PoissonGroup(num_inputs, rates=input_rate)\n",
    "MP = SpikeMonitor(P)\n",
    "# We use a Network object because later on we don't\n",
    "# want to include these objects\n",
    "net = Network(P, MP)\n",
    "net.run(1*second)\n",
    "# And keep a copy of those spikes\n",
    "spikes_i = MP.i\n",
    "spikes_t = MP.t\n",
    "# Now construct the network that we run each time\n",
    "# SpikeGeneratorGroup gets the spikes that we created before\n",
    "SGG = SpikeGeneratorGroup(num_inputs, spikes_i, spikes_t)\n",
    "eqs = '''\n",
    "dv/dt = -v/tau : 1\n",
    "'''\n",
    "G = NeuronGroup(1, eqs, threshold='v>1', reset='v=0', method='exact')\n",
    "S = Synapses(SGG, G, on_pre='v += weight')\n",
    "S.connect()\n",
    "M = SpikeMonitor(G)\n",
    "# Store the current state of the network\n",
    "net = Network(SGG, G, S, M)\n",
    "net.store()\n",
    "for tau in tau_range:\n",
    "    # Restore the original state of the network\n",
    "    net.restore()\n",
    "    # Run it with the new value of tau\n",
    "    net.run(1*second)\n",
    "    output_rates.append(M.num_spikes/second)\n",
    "plot(tau_range/ms, output_rates)\n",
    "xlabel(r'$\\tau$ (ms)')\n",
    "ylabel('Firing rate (sp/s)');"
   ]
  },
  {
   "cell_type": "code",
   "execution_count": null,
   "id": "d3a3a8a1",
   "metadata": {},
   "outputs": [],
   "source": []
  }
 ],
 "metadata": {
  "kernelspec": {
   "display_name": "Python 3 (ipykernel)",
   "language": "python",
   "name": "python3"
  },
  "language_info": {
   "codemirror_mode": {
    "name": "ipython",
    "version": 3
   },
   "file_extension": ".py",
   "mimetype": "text/x-python",
   "name": "python",
   "nbconvert_exporter": "python",
   "pygments_lexer": "ipython3",
   "version": "3.10.4"
  }
 },
 "nbformat": 4,
 "nbformat_minor": 5
}
