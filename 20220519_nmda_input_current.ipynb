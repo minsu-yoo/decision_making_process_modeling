{
 "cells": [
  {
   "cell_type": "code",
   "execution_count": 1,
   "id": "5da2fdc3",
   "metadata": {},
   "outputs": [],
   "source": [
    "import brian2 as b2\n",
    "from brian2 import NeuronGroup, Synapses, PoissonInput, PoissonGroup, network_operation\n",
    "from brian2.monitors import StateMonitor, SpikeMonitor, PopulationRateMonitor\n",
    "from random import sample\n",
    "import numpy.random as rnd\n",
    "from neurodynex3.tools import plot_tools\n",
    "import numpy \n",
    "import matplotlib.pyplot as plt\n",
    "from math import floor\n",
    "import time\n",
    "\n",
    "b2.defaultclock.dt = 0.10 * b2.ms\n",
    "\n",
    "N_Excit=384 \n",
    "N_Inhib=96 \n",
    "weight_scaling_factor=5.33\n",
    "t_stimulus_start=100 * b2.ms \n",
    "t_stimulus_duration=9999 * b2.ms \n",
    "coherence_level=0\n",
    "stimulus_update_interval=30 * b2.ms\n",
    "mu0_mean_stimulus_Hz=160\n",
    "w_pos=1.90\n",
    "firing_rate_extern=9.8 * b2.Hz\n",
    "N_extern=1000 \n",
    "stimulus_std_Hz=20.\n",
    "f_Subpop_size=0.25  # .15 in publication [1]\n",
    "max_sim_time=1000. * b2.ms \n",
    "stop_condition_rate=None\n",
    "monitored_subset_size=512\n",
    "\n",
    "\n",
    "t_stimulus_end = t_stimulus_start + t_stimulus_duration\n",
    "\n",
    "N_Group_A = int(N_Excit * f_Subpop_size)  # size of the excitatory subpopulation sensitive to stimulus A\n",
    "N_Group_B = N_Group_A  # size of the excitatory subpopulation sensitive to stimulus B\n",
    "N_Group_Z = N_Excit - N_Group_A - N_Group_B  # (1-2f)Ne excitatory neurons do not respond to either stimulus.\n",
    "\n",
    "Cm_excit = 0.5 * b2.nF  # membrane capacitance of excitatory neurons0\n",
    "G_leak_excit = 25.0 * b2.nS  # leak conductance\n",
    "E_leak_excit = -70.0 * b2.mV  # reversal potential\n",
    "v_spike_thr_excit = -50.0 * b2.mV  # spike condition\n",
    "v_reset_excit = -60.0 * b2.mV  # reset voltage after spike\n",
    "t_abs_refract_excit = 2. * b2.ms  # absolute refractory period\n",
    "\n",
    "\n"
   ]
  },
  {
   "cell_type": "code",
   "execution_count": 2,
   "id": "0856e452",
   "metadata": {},
   "outputs": [],
   "source": [
    "# specify the AMPA synapses\n",
    "E_AMPA = 0.0 * b2.mV\n",
    "tau_AMPA = 2.5 * b2.ms\n",
    "\n",
    "# specify the GABA synapses\n",
    "E_GABA = -70.0 * b2.mV\n",
    "tau_GABA = 5.0 * b2.ms\n",
    "\n",
    "# specify the NMDA synapses\n",
    "E_NMDA = 0.0 * b2.mV\n",
    "tau_NMDA_s = 100.0 * b2.ms\n",
    "tau_NMDA_x = 2. * b2.ms\n",
    "alpha_NMDA = 0.5 * b2.kHz"
   ]
  },
  {
   "cell_type": "code",
   "execution_count": 3,
   "id": "3507468a",
   "metadata": {},
   "outputs": [],
   "source": [
    "# projections from the external population\n",
    "g_AMPA_extern2inhib = 1.62 * b2.nS\n",
    "g_AMPA_extern2excit = 2.1 * b2.nS"
   ]
  },
  {
   "cell_type": "code",
   "execution_count": 4,
   "id": "c1df0900",
   "metadata": {},
   "outputs": [],
   "source": [
    " # projectsions from the inhibitory populations\n",
    "g_GABA_inhib2inhib = weight_scaling_factor * 1.25 * b2.nS\n",
    "g_GABA_inhib2excit = weight_scaling_factor * 1.60 * b2.nS\n",
    "\n",
    "# projections from the excitatory population\n",
    "g_AMPA_excit2excit = weight_scaling_factor * 0.012 * b2.nS\n",
    "g_AMPA_excit2inhib = weight_scaling_factor * 0.015 * b2.nS\n",
    "g_NMDA_excit2excit = weight_scaling_factor * 0.040 * b2.nS\n",
    "g_NMDA_excit2inhib = weight_scaling_factor * 0.045 * b2.nS  # stronger projection to inhib.\n",
    "\n",
    "\n",
    "# weights and \"adjusted\" weights.\n",
    "w_neg = 1. - f_Subpop_size * (w_pos - 1.) / (1. - f_Subpop_size)\n",
    "# We use the same postsyn AMPA and NMDA conductances. Adjust the weights coming from different sources:\n",
    "w_ext2inhib = g_AMPA_extern2inhib / g_AMPA_excit2inhib\n",
    "w_ext2excit = g_AMPA_extern2excit / g_AMPA_excit2excit\n",
    "# other weights are 1\n",
    "# print(\"w_neg={}, w_ext2inhib={}, w_ext2excit={}\".format(w_neg, w_ext2inhib, w_ext2excit))"
   ]
  },
  {
   "cell_type": "code",
   "execution_count": null,
   "id": "e956e107",
   "metadata": {},
   "outputs": [],
   "source": []
  },
  {
   "cell_type": "code",
   "execution_count": 27,
   "id": "a314768a",
   "metadata": {},
   "outputs": [],
   "source": [
    "excit_lif_dynamics = \"\"\"\n",
    "    dv/dt = (\n",
    "    - G_leak_excit * (v-E_leak_excit)\n",
    "    - g_AMPA_excit2excit * s_AMPA * (v-E_AMPA)\n",
    "    )/Cm_excit : volt (unless refractory)\n",
    "    ds_AMPA/dt = -s_AMPA/tau_AMPA : 1\n",
    "   \n",
    "\"\"\""
   ]
  },
  {
   "cell_type": "markdown",
   "id": "9fef5b3c",
   "metadata": {},
   "source": [
    "neuron 안에서 이루어지는 dynamics 를 설정해준다. "
   ]
  },
  {
   "cell_type": "code",
   "execution_count": 28,
   "id": "31a31730",
   "metadata": {},
   "outputs": [
    {
     "name": "stderr",
     "output_type": "stream",
     "text": [
      "WARNING    Cannot use Cython, a test compilation failed: Microsoft Visual C++ 14.0 or greater is required. Get it with \"Microsoft C++ Build Tools\": https://visualstudio.microsoft.com/visual-cpp-build-tools/ (DistutilsPlatformError) [brian2.codegen.runtime.cython_rt.cython_rt.failed_compile_test]\n",
      "INFO       Cannot use compiled code, falling back to the numpy code generation target. Note that this will likely be slower than using compiled code. Set the code generation to numpy manually to avoid this message:\n",
      "prefs.codegen.target = \"numpy\" [brian2.devices.device.codegen_fallback]\n"
     ]
    },
    {
     "name": "stdout",
     "output_type": "stream",
     "text": [
      "32.833020637898684\n"
     ]
    },
    {
     "data": {
      "image/png": "[encoded data removed]",
      "text/plain": [
       "<Figure size 432x288 with 1 Axes>"
      ]
     },
     "metadata": {
      "needs_background": "light"
     },
     "output_type": "display_data"
    }
   ],
   "source": [
    "# remember, this is here for running separate simulations in the same notebook\n",
    "# Parameters\n",
    "b2.start_scope()\n",
    "\n",
    "excit_pop_A = NeuronGroup(1, model=excit_lif_dynamics,\n",
    "                              threshold=\"v>v_spike_thr_excit\", reset=\"v=v_reset_excit\",\n",
    "                              refractory=t_abs_refract_excit, method=\"rk2\")\n",
    "\n",
    "\n",
    "excit_pop_A.v = rnd.uniform(E_leak_excit / b2.mV, high=E_leak_excit / b2.mV + 5., size=excit_pop_A.N) * b2.mV\n",
    "\n",
    "poisson2A = PoissonInput(target=excit_pop_A, target_var=\"s_AMPA\",\n",
    "                             N=1, rate=firing_rate_extern, weight=w_ext2excit)\n",
    "\n",
    "\n",
    "M = StateMonitor(excit_pop_A, 'v', record=True)\n",
    "\n",
    "b2.run(500*b2.ms)\n",
    "b2.plot(M.t/b2.ms, M.v[0]/b2.mV)\n",
    "b2.xlabel('Time (ms)')\n",
    "b2.ylabel('V (mV)');\n",
    "print(w_ext2excit)"
   ]
  },
  {
   "cell_type": "markdown",
   "id": "dbb62743",
   "metadata": {},
   "source": [
    "tau_AMPA = 2.5 * b2.ms \n"
   ]
  },
  {
   "cell_type": "code",
   "execution_count": 23,
   "id": "d0552096",
   "metadata": {
    "scrolled": true
   },
   "outputs": [],
   "source": [
    "neuron = NeuronGroup(1, ampa_dynamics)\n",
    "\n"
   ]
  },
  {
   "cell_type": "code",
   "execution_count": 24,
   "id": "b95dcc6c",
   "metadata": {},
   "outputs": [],
   "source": [
    "import numpy as np"
   ]
  },
  {
   "cell_type": "code",
   "execution_count": 25,
   "id": "879cd80f",
   "metadata": {
    "scrolled": true
   },
   "outputs": [],
   "source": [
    "neuron.s_AMPA = 0"
   ]
  },
  {
   "cell_type": "code",
   "execution_count": null,
   "id": "abded60f",
   "metadata": {},
   "outputs": [],
   "source": [
    "plt.plot(neuron.s_AMPA, group.tau_m[:]/ms, label=\"tau_m\")"
   ]
  },
  {
   "cell_type": "code",
   "execution_count": null,
   "id": "19946066",
   "metadata": {},
   "outputs": [],
   "source": []
  },
  {
   "cell_type": "code",
   "execution_count": null,
   "id": "fcd72c64",
   "metadata": {},
   "outputs": [],
   "source": []
  },
  {
   "cell_type": "code",
   "execution_count": null,
   "id": "f1373023",
   "metadata": {},
   "outputs": [],
   "source": []
  },
  {
   "cell_type": "code",
   "execution_count": 30,
   "id": "05e02342",
   "metadata": {},
   "outputs": [],
   "source": [
    "from brian2 import *"
   ]
  },
  {
   "cell_type": "code",
   "execution_count": 48,
   "id": "e64f9fdd",
   "metadata": {},
   "outputs": [],
   "source": [
    "\n",
    "tau_rise = 2*ms\n",
    "tau_decay = 100*ms\n",
    "\n",
    "\n",
    "eqs = '''\n",
    "\n",
    "v = 1-exp(-t/tau_rise):1\n",
    "'''\n"
   ]
  },
  {
   "cell_type": "code",
   "execution_count": 49,
   "id": "f1cde40a",
   "metadata": {},
   "outputs": [
    {
     "data": {
      "text/plain": [
       "[<matplotlib.lines.Line2D at 0x193eee28fa0>]"
      ]
     },
     "execution_count": 49,
     "metadata": {},
     "output_type": "execute_result"
    },
    {
     "data": {
      "image/png": "[encoded data removed]",
      "text/plain": [
       "<Figure size 432x288 with 1 Axes>"
      ]
     },
     "metadata": {
      "needs_background": "light"
     },
     "output_type": "display_data"
    }
   ],
   "source": [
    "plot(M.t/ms, 1-exp(-M.t/tau), 'C1--',label='Analytic')\n"
   ]
  },
  {
   "cell_type": "code",
   "execution_count": 62,
   "id": "fcae3753",
   "metadata": {},
   "outputs": [
    {
     "data": {
      "image/png": "[encoded data removed]",
      "text/plain": [
       "<Figure size 432x288 with 1 Axes>"
      ]
     },
     "metadata": {
      "needs_background": "light"
     },
     "output_type": "display_data"
    }
   ],
   "source": [
    "start_scope()\n",
    "\n",
    "G = NeuronGroup(1, eqs, method='exact')\n",
    "M = StateMonitor(G, 'v', record=0)\n",
    "\n",
    "run(500*ms)\n",
    "\n",
    "#plot(M.t/ms, M.v[0], 'C0', label='Brian')\n",
    "#plot(M.t/ms, (exp(-M.t/tau_rise)), 'C2--',label='decay')\n",
    "plot(M.t/ms, (1-exp(-M.t/tau_decay)), 'C3--',label='decay')\n",
    "#plot(M.t/ms, (1-exp(-M.t/tau_rise))*exp(-M.t/tau_decay), 'C1',label='nmda_total')\n",
    "\n",
    "\n",
    "xlabel('Time (ms)')\n",
    "ylabel('v')\n",
    "legend();"
   ]
  },
  {
   "cell_type": "code",
   "execution_count": 68,
   "id": "8830fbe1",
   "metadata": {},
   "outputs": [
    {
     "data": {
      "image/png": "[encoded data removed]",
      "text/plain": [
       "<Figure size 432x288 with 1 Axes>"
      ]
     },
     "metadata": {
      "needs_background": "light"
     },
     "output_type": "display_data"
    }
   ],
   "source": [
    "start_scope()\n",
    "\n",
    "G = NeuronGroup(1, eqs, method='exact')\n",
    "M = StateMonitor(G, 'v', record=0)\n",
    "\n",
    "tau_rise = 2*ms\n",
    "tau_decay = 100*ms\n",
    "\n",
    "\n",
    "\n",
    "\n",
    "run(500*ms)\n",
    "\n",
    "#plot(M.t/ms, M.v[0], 'C0', label='Brian')\n",
    "plot(M.t/ms, (exp(-M.t/tau_rise)), 'C2--',label='rise')\n",
    "plot(M.t/ms, (1-exp(-M.t/tau_decay)), 'C3--',label='decay')\n",
    "#plot(M.t/ms, 1-1*(1-exp(-M.t/tau_decay)), 'C3--',label='decay_inverse')\n",
    "\n",
    "plot(M.t/ms, (1-exp(-M.t/tau_rise))*exp(-M.t/tau_decay), 'C1',label='nmda_total')\n",
    "\n",
    "\n",
    "xlabel('Time (ms)')\n",
    "ylabel('v')\n",
    "legend();"
   ]
  },
  {
   "cell_type": "markdown",
   "id": "1083694b",
   "metadata": {},
   "source": [
    "## $$ (1-e^{\\frac{-t}{\\tau_{rise}}})e^{\\frac{-t}{\\tau_{decay}}} $$"
   ]
  },
  {
   "cell_type": "code",
   "execution_count": null,
   "id": "6281081b",
   "metadata": {},
   "outputs": [],
   "source": []
  },
  {
   "cell_type": "code",
   "execution_count": 31,
   "id": "ea4dfd89",
   "metadata": {
    "scrolled": true
   },
   "outputs": [
    {
     "ename": "NameError",
     "evalue": "name 'tau' is not defined",
     "output_type": "error",
     "traceback": [
      "\u001b[1;31m---------------------------------------------------------------------------\u001b[0m",
      "\u001b[1;31mNameError\u001b[0m                                 Traceback (most recent call last)",
      "Input \u001b[1;32mIn [31]\u001b[0m, in \u001b[0;36m<cell line: 1>\u001b[1;34m()\u001b[0m\n\u001b[1;32m----> 1\u001b[0m plot(M\u001b[38;5;241m.\u001b[39mt\u001b[38;5;241m/\u001b[39mms, \u001b[38;5;241m1\u001b[39m\u001b[38;5;241m-\u001b[39mexp(\u001b[38;5;241m-\u001b[39mM\u001b[38;5;241m.\u001b[39mt\u001b[38;5;241m/\u001b[39m\u001b[43mtau\u001b[49m), \u001b[38;5;124m'\u001b[39m\u001b[38;5;124mC1--\u001b[39m\u001b[38;5;124m'\u001b[39m,label\u001b[38;5;241m=\u001b[39m\u001b[38;5;124m'\u001b[39m\u001b[38;5;124mAnalytic\u001b[39m\u001b[38;5;124m'\u001b[39m)\n",
      "\u001b[1;31mNameError\u001b[0m: name 'tau' is not defined"
     ]
    }
   ],
   "source": [
    "plot(M.t/ms, 1-exp(-M.t/tau), 'C1--',label='Analytic')\n"
   ]
  },
  {
   "cell_type": "code",
   "execution_count": null,
   "id": "6eaf75ef",
   "metadata": {},
   "outputs": [],
   "source": []
  },
  {
   "cell_type": "code",
   "execution_count": null,
   "id": "0d45bcd7",
   "metadata": {},
   "outputs": [],
   "source": []
  }
 ],
 "metadata": {
  "kernelspec": {
   "display_name": "Python 3 (ipykernel)",
   "language": "python",
   "name": "python3"
  },
  "language_info": {
   "codemirror_mode": {
    "name": "ipython",
    "version": 3
   },
   "file_extension": ".py",
   "mimetype": "text/x-python",
   "name": "python",
   "nbconvert_exporter": "python",
   "pygments_lexer": "ipython3",
   "version": "3.10.4"
  }
 },
 "nbformat": 4,
 "nbformat_minor": 5
}
